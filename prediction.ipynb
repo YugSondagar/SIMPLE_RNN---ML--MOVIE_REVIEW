{
 "cells": [
  {
   "cell_type": "code",
   "execution_count": 1,
   "id": "4e074186",
   "metadata": {},
   "outputs": [],
   "source": [
    "import pandas as pd\n",
    "import numpy as np\n",
    "import tensorflow as tf\n",
    "from tensorflow.keras.datasets import imdb\n",
    "from tensorflow.keras.preprocessing import sequence\n",
    "from tensorflow.keras.models import load_model"
   ]
  },
  {
   "cell_type": "code",
   "execution_count": 2,
   "id": "269dc5a4",
   "metadata": {},
   "outputs": [],
   "source": [
    "##Load the word index\n",
    "word_index = imdb.get_word_index()\n",
    "reverse_word_index = {value:key for key,value in word_index.items()}"
   ]
  },
  {
   "cell_type": "code",
   "execution_count": 3,
   "id": "54d8c65f",
   "metadata": {},
   "outputs": [
    {
     "name": "stderr",
     "output_type": "stream",
     "text": [
      "WARNING:absl:Compiled the loaded model, but the compiled metrics have yet to be built. `model.compile_metrics` will be empty until you train or evaluate the model.\n"
     ]
    },
    {
     "data": {
      "text/html": [
       "<pre style=\"white-space:pre;overflow-x:auto;line-height:normal;font-family:Menlo,'DejaVu Sans Mono',consolas,'Courier New',monospace\"><span style=\"font-weight: bold\">Model: \"sequential_1\"</span>\n",
       "</pre>\n"
      ],
      "text/plain": [
       "\u001b[1mModel: \"sequential_1\"\u001b[0m\n"
      ]
     },
     "metadata": {},
     "output_type": "display_data"
    },
    {
     "data": {
      "text/html": [
       "<pre style=\"white-space:pre;overflow-x:auto;line-height:normal;font-family:Menlo,'DejaVu Sans Mono',consolas,'Courier New',monospace\">┏━━━━━━━━━━━━━━━━━━━━━━━━━━━━━━━━━┳━━━━━━━━━━━━━━━━━━━━━━━━┳━━━━━━━━━━━━━━━┓\n",
       "┃<span style=\"font-weight: bold\"> Layer (type)                    </span>┃<span style=\"font-weight: bold\"> Output Shape           </span>┃<span style=\"font-weight: bold\">       Param # </span>┃\n",
       "┡━━━━━━━━━━━━━━━━━━━━━━━━━━━━━━━━━╇━━━━━━━━━━━━━━━━━━━━━━━━╇━━━━━━━━━━━━━━━┩\n",
       "│ embedding_1 (<span style=\"color: #0087ff; text-decoration-color: #0087ff\">Embedding</span>)         │ (<span style=\"color: #00d7ff; text-decoration-color: #00d7ff\">None</span>, <span style=\"color: #00af00; text-decoration-color: #00af00\">500</span>, <span style=\"color: #00af00; text-decoration-color: #00af00\">128</span>)       │       <span style=\"color: #00af00; text-decoration-color: #00af00\">128,000</span> │\n",
       "├─────────────────────────────────┼────────────────────────┼───────────────┤\n",
       "│ simple_rnn_1 (<span style=\"color: #0087ff; text-decoration-color: #0087ff\">SimpleRNN</span>)        │ (<span style=\"color: #00d7ff; text-decoration-color: #00d7ff\">None</span>, <span style=\"color: #00af00; text-decoration-color: #00af00\">128</span>)            │        <span style=\"color: #00af00; text-decoration-color: #00af00\">32,896</span> │\n",
       "├─────────────────────────────────┼────────────────────────┼───────────────┤\n",
       "│ dense_1 (<span style=\"color: #0087ff; text-decoration-color: #0087ff\">Dense</span>)                 │ (<span style=\"color: #00d7ff; text-decoration-color: #00d7ff\">None</span>, <span style=\"color: #00af00; text-decoration-color: #00af00\">1</span>)              │           <span style=\"color: #00af00; text-decoration-color: #00af00\">129</span> │\n",
       "└─────────────────────────────────┴────────────────────────┴───────────────┘\n",
       "</pre>\n"
      ],
      "text/plain": [
       "┏━━━━━━━━━━━━━━━━━━━━━━━━━━━━━━━━━┳━━━━━━━━━━━━━━━━━━━━━━━━┳━━━━━━━━━━━━━━━┓\n",
       "┃\u001b[1m \u001b[0m\u001b[1mLayer (type)                   \u001b[0m\u001b[1m \u001b[0m┃\u001b[1m \u001b[0m\u001b[1mOutput Shape          \u001b[0m\u001b[1m \u001b[0m┃\u001b[1m \u001b[0m\u001b[1m      Param #\u001b[0m\u001b[1m \u001b[0m┃\n",
       "┡━━━━━━━━━━━━━━━━━━━━━━━━━━━━━━━━━╇━━━━━━━━━━━━━━━━━━━━━━━━╇━━━━━━━━━━━━━━━┩\n",
       "│ embedding_1 (\u001b[38;5;33mEmbedding\u001b[0m)         │ (\u001b[38;5;45mNone\u001b[0m, \u001b[38;5;34m500\u001b[0m, \u001b[38;5;34m128\u001b[0m)       │       \u001b[38;5;34m128,000\u001b[0m │\n",
       "├─────────────────────────────────┼────────────────────────┼───────────────┤\n",
       "│ simple_rnn_1 (\u001b[38;5;33mSimpleRNN\u001b[0m)        │ (\u001b[38;5;45mNone\u001b[0m, \u001b[38;5;34m128\u001b[0m)            │        \u001b[38;5;34m32,896\u001b[0m │\n",
       "├─────────────────────────────────┼────────────────────────┼───────────────┤\n",
       "│ dense_1 (\u001b[38;5;33mDense\u001b[0m)                 │ (\u001b[38;5;45mNone\u001b[0m, \u001b[38;5;34m1\u001b[0m)              │           \u001b[38;5;34m129\u001b[0m │\n",
       "└─────────────────────────────────┴────────────────────────┴───────────────┘\n"
      ]
     },
     "metadata": {},
     "output_type": "display_data"
    },
    {
     "data": {
      "text/html": [
       "<pre style=\"white-space:pre;overflow-x:auto;line-height:normal;font-family:Menlo,'DejaVu Sans Mono',consolas,'Courier New',monospace\"><span style=\"font-weight: bold\"> Total params: </span><span style=\"color: #00af00; text-decoration-color: #00af00\">161,027</span> (629.02 KB)\n",
       "</pre>\n"
      ],
      "text/plain": [
       "\u001b[1m Total params: \u001b[0m\u001b[38;5;34m161,027\u001b[0m (629.02 KB)\n"
      ]
     },
     "metadata": {},
     "output_type": "display_data"
    },
    {
     "data": {
      "text/html": [
       "<pre style=\"white-space:pre;overflow-x:auto;line-height:normal;font-family:Menlo,'DejaVu Sans Mono',consolas,'Courier New',monospace\"><span style=\"font-weight: bold\"> Trainable params: </span><span style=\"color: #00af00; text-decoration-color: #00af00\">161,025</span> (629.00 KB)\n",
       "</pre>\n"
      ],
      "text/plain": [
       "\u001b[1m Trainable params: \u001b[0m\u001b[38;5;34m161,025\u001b[0m (629.00 KB)\n"
      ]
     },
     "metadata": {},
     "output_type": "display_data"
    },
    {
     "data": {
      "text/html": [
       "<pre style=\"white-space:pre;overflow-x:auto;line-height:normal;font-family:Menlo,'DejaVu Sans Mono',consolas,'Courier New',monospace\"><span style=\"font-weight: bold\"> Non-trainable params: </span><span style=\"color: #00af00; text-decoration-color: #00af00\">0</span> (0.00 B)\n",
       "</pre>\n"
      ],
      "text/plain": [
       "\u001b[1m Non-trainable params: \u001b[0m\u001b[38;5;34m0\u001b[0m (0.00 B)\n"
      ]
     },
     "metadata": {},
     "output_type": "display_data"
    },
    {
     "data": {
      "text/html": [
       "<pre style=\"white-space:pre;overflow-x:auto;line-height:normal;font-family:Menlo,'DejaVu Sans Mono',consolas,'Courier New',monospace\"><span style=\"font-weight: bold\"> Optimizer params: </span><span style=\"color: #00af00; text-decoration-color: #00af00\">2</span> (12.00 B)\n",
       "</pre>\n"
      ],
      "text/plain": [
       "\u001b[1m Optimizer params: \u001b[0m\u001b[38;5;34m2\u001b[0m (12.00 B)\n"
      ]
     },
     "metadata": {},
     "output_type": "display_data"
    }
   ],
   "source": [
    "##Load the h5 file\n",
    "model = load_model('SimpleRNN_imdb.h5')\n",
    "model.summary()"
   ]
  },
  {
   "cell_type": "code",
   "execution_count": 4,
   "id": "c6844973",
   "metadata": {},
   "outputs": [
    {
     "data": {
      "text/plain": [
       "[array([[ 0.32485205,  0.34276772, -0.39831328, ..., -0.39263484,\n",
       "          0.42478132, -0.47256088],\n",
       "        [-0.00365443, -0.0154379 , -0.00230186, ...,  0.01543608,\n",
       "          0.07215009, -0.02336636],\n",
       "        [ 0.03105266, -0.19950213,  0.11192111, ..., -0.02833853,\n",
       "          0.16987452,  0.06180979],\n",
       "        ...,\n",
       "        [-0.10170388, -0.03323689, -0.03918102, ..., -0.01652144,\n",
       "         -0.02921727,  0.01957786],\n",
       "        [-0.10379463,  0.01363125,  0.05948918, ..., -0.11444708,\n",
       "          0.07451158,  0.00794439],\n",
       "        [ 0.0006029 ,  0.01278089,  0.05152452, ...,  0.00459649,\n",
       "         -0.0341066 , -0.02250583]], shape=(1000, 128), dtype=float32),\n",
       " array([[-0.02818782,  0.14527729, -0.09419961, ..., -0.11354726,\n",
       "          0.12234767, -0.15181723],\n",
       "        [ 0.03359824, -0.10169815, -0.01396393, ...,  0.05851996,\n",
       "         -0.02078813,  0.13650754],\n",
       "        [ 0.10339718,  0.14320624,  0.11711543, ...,  0.03686593,\n",
       "          0.09439694, -0.1190538 ],\n",
       "        ...,\n",
       "        [ 0.0039163 ,  0.10139135, -0.11445414, ..., -0.0578454 ,\n",
       "         -0.11891522,  0.04600402],\n",
       "        [-0.02799624,  0.02083063,  0.03478526, ..., -0.0397287 ,\n",
       "         -0.1565158 , -0.03977129],\n",
       "        [ 0.17389147, -0.04683113, -0.15924   , ..., -0.10496046,\n",
       "         -0.10034718,  0.0315968 ]], shape=(128, 128), dtype=float32),\n",
       " array([[-0.15308532, -0.20097442,  0.01952157, ...,  0.05263806,\n",
       "          0.01871997, -0.07467052],\n",
       "        [-0.01605468, -0.1480025 , -0.06047528, ...,  0.13710761,\n",
       "         -0.04471944,  0.07257973],\n",
       "        [-0.12637483,  0.15128657,  0.12240524, ...,  0.03012179,\n",
       "          0.06517904, -0.02460967],\n",
       "        ...,\n",
       "        [ 0.07743552, -0.2719505 , -0.01123648, ..., -0.01743296,\n",
       "         -0.01756668, -0.06363889],\n",
       "        [-0.15012002, -0.05656047,  0.06157272, ...,  0.21348083,\n",
       "          0.20619135, -0.07306855],\n",
       "        [-0.13803607,  0.08522282, -0.10450353, ..., -0.03030328,\n",
       "          0.00868735, -0.10467435]], shape=(128, 128), dtype=float32),\n",
       " array([ 0.02163682,  0.03251982,  0.02746682,  0.00215171,  0.02917212,\n",
       "        -0.02446402,  0.02257671,  0.0395348 , -0.02096348,  0.01063243,\n",
       "        -0.02225499,  0.03029253, -0.06232527, -0.03797172,  0.01339849,\n",
       "        -0.03283214, -0.07366339, -0.05168455, -0.00698194, -0.05730988,\n",
       "        -0.03904672, -0.03305474, -0.0318058 , -0.03444849, -0.01507383,\n",
       "        -0.00474614,  0.03531972,  0.04120207,  0.02962705, -0.03692002,\n",
       "         0.00353937,  0.00136257,  0.04457751, -0.04452553, -0.01449907,\n",
       "         0.00375132, -0.04423435, -0.0260677 ,  0.00827074, -0.03190525,\n",
       "        -0.03223229, -0.02554092, -0.03615071, -0.03689763,  0.03949685,\n",
       "         0.00689987, -0.03810348, -0.01661792, -0.0142551 ,  0.0308799 ,\n",
       "        -0.02257524, -0.06388751, -0.01574865, -0.02125884, -0.00435838,\n",
       "        -0.01465364,  0.07099149, -0.03140327, -0.00790193, -0.00565262,\n",
       "        -0.03658549,  0.01469835, -0.00903558,  0.04043849, -0.01088172,\n",
       "        -0.03152817,  0.01250473,  0.02930464,  0.03583068, -0.02348865,\n",
       "        -0.0462365 , -0.0921435 , -0.00636337, -0.00954448, -0.0325678 ,\n",
       "         0.00072619, -0.04699208,  0.01435049, -0.00237328, -0.02345944,\n",
       "         0.01989801, -0.02950092,  0.01372608, -0.01097529,  0.01054597,\n",
       "         0.00197873, -0.0124797 ,  0.01164609, -0.00230762, -0.03728856,\n",
       "        -0.05221961,  0.00780989,  0.02903556, -0.03761477, -0.01460282,\n",
       "         0.03055957, -0.03820927, -0.02630239,  0.01965708, -0.01131652,\n",
       "        -0.02680978,  0.01259676,  0.042084  ,  0.05290821, -0.02997763,\n",
       "         0.01475023,  0.00058027,  0.01621889,  0.03115902, -0.01126011,\n",
       "         0.03436998,  0.03302613, -0.01358083, -0.04468547, -0.06348813,\n",
       "        -0.04636947,  0.02669802, -0.05639246, -0.0165588 ,  0.00655059,\n",
       "         0.05914204,  0.03142624,  0.04954479, -0.02360793, -0.01961466,\n",
       "         0.03391205, -0.00713896,  0.03505406], dtype=float32),\n",
       " array([[-0.01712562],\n",
       "        [ 0.1074164 ],\n",
       "        [ 0.08939688],\n",
       "        [ 0.06425751],\n",
       "        [-0.0355816 ],\n",
       "        [-0.01271491],\n",
       "        [ 0.0535778 ],\n",
       "        [ 0.07440666],\n",
       "        [-0.11752407],\n",
       "        [-0.09727658],\n",
       "        [-0.02756763],\n",
       "        [ 0.22164671],\n",
       "        [-0.28942692],\n",
       "        [-0.24200398],\n",
       "        [-0.0967695 ],\n",
       "        [-0.11885797],\n",
       "        [-0.24766861],\n",
       "        [-0.17445964],\n",
       "        [ 0.25378084],\n",
       "        [-0.07750801],\n",
       "        [ 0.03763444],\n",
       "        [ 0.05957282],\n",
       "        [-0.08082974],\n",
       "        [ 0.21023107],\n",
       "        [-0.07376378],\n",
       "        [ 0.01192876],\n",
       "        [ 0.01349211],\n",
       "        [-0.19069836],\n",
       "        [-0.1047871 ],\n",
       "        [ 0.02317245],\n",
       "        [ 0.0161079 ],\n",
       "        [ 0.00573446],\n",
       "        [-0.6696452 ],\n",
       "        [ 0.00149571],\n",
       "        [-0.08332349],\n",
       "        [ 0.06562246],\n",
       "        [ 0.14251913],\n",
       "        [-0.19258301],\n",
       "        [ 0.20083623],\n",
       "        [-0.00357784],\n",
       "        [ 0.21399288],\n",
       "        [-0.07891633],\n",
       "        [-0.07124409],\n",
       "        [-0.16751647],\n",
       "        [ 0.10613199],\n",
       "        [-0.06544365],\n",
       "        [-0.17943506],\n",
       "        [ 0.20456979],\n",
       "        [-0.35706002],\n",
       "        [ 0.06050489],\n",
       "        [-0.27715078],\n",
       "        [ 0.24101742],\n",
       "        [-0.21627305],\n",
       "        [ 0.30958676],\n",
       "        [-0.06608617],\n",
       "        [-0.07534336],\n",
       "        [-0.18137449],\n",
       "        [ 0.23970951],\n",
       "        [-0.01820924],\n",
       "        [ 0.12582436],\n",
       "        [ 0.40447557],\n",
       "        [ 0.01721003],\n",
       "        [ 0.03151175],\n",
       "        [-0.03341523],\n",
       "        [ 0.03024995],\n",
       "        [-0.02651377],\n",
       "        [ 0.04877785],\n",
       "        [-0.2696491 ],\n",
       "        [-0.13078913],\n",
       "        [ 0.05152331],\n",
       "        [-0.18787861],\n",
       "        [ 0.01192704],\n",
       "        [ 0.0456246 ],\n",
       "        [ 0.14612325],\n",
       "        [-0.10476641],\n",
       "        [ 0.21971759],\n",
       "        [-0.0704063 ],\n",
       "        [ 0.1525623 ],\n",
       "        [-0.17926031],\n",
       "        [ 0.2847418 ],\n",
       "        [ 0.00864496],\n",
       "        [-0.4418217 ],\n",
       "        [-0.57192415],\n",
       "        [-0.15086384],\n",
       "        [-0.02679439],\n",
       "        [-0.25828686],\n",
       "        [ 0.2146373 ],\n",
       "        [ 0.26905927],\n",
       "        [-0.16976073],\n",
       "        [ 0.0949445 ],\n",
       "        [ 0.13317151],\n",
       "        [-0.07704573],\n",
       "        [ 0.02413142],\n",
       "        [-0.00542401],\n",
       "        [-0.10252514],\n",
       "        [-0.16436717],\n",
       "        [ 0.08467824],\n",
       "        [-0.08537114],\n",
       "        [ 0.02251548],\n",
       "        [-0.25504178],\n",
       "        [-0.81940633],\n",
       "        [ 0.04683894],\n",
       "        [ 0.04268796],\n",
       "        [-0.11101125],\n",
       "        [ 0.06039433],\n",
       "        [ 0.05817381],\n",
       "        [-0.13954878],\n",
       "        [ 0.0580181 ],\n",
       "        [ 0.05876216],\n",
       "        [ 0.15165387],\n",
       "        [-0.11895963],\n",
       "        [-0.06932928],\n",
       "        [-0.27022713],\n",
       "        [ 0.17457779],\n",
       "        [-0.04317958],\n",
       "        [ 0.15706807],\n",
       "        [-0.15193681],\n",
       "        [ 0.18755403],\n",
       "        [ 0.0161263 ],\n",
       "        [-0.20658535],\n",
       "        [-0.15281993],\n",
       "        [-0.00808799],\n",
       "        [-0.20438145],\n",
       "        [-0.17260306],\n",
       "        [-0.08168941],\n",
       "        [ 0.06075196],\n",
       "        [-0.02393595],\n",
       "        [-0.0508153 ]], dtype=float32),\n",
       " array([-0.865956], dtype=float32)]"
      ]
     },
     "execution_count": 4,
     "metadata": {},
     "output_type": "execute_result"
    }
   ],
   "source": [
    "model.get_weights()"
   ]
  },
  {
   "cell_type": "code",
   "execution_count": 5,
   "id": "b04215ae",
   "metadata": {},
   "outputs": [],
   "source": [
    "#Function to decode the reviews\n",
    "def decode_review(encoded_review):\n",
    "    return \" \".join([reverse_word_index.get(i-3,'?') for i in encoded_review])\n",
    "\n",
    "#Function to preprocess user input\n",
    "def preprocess_text(text):\n",
    "    words = text.lower().split()\n",
    "    encoded_review = [word_index.get(word,2)+3 for word in words]\n",
    "    padded_review = sequence.pad_sequences([encoded_review],maxlen=500)\n",
    "    return padded_review"
   ]
  },
  {
   "cell_type": "code",
   "execution_count": null,
   "id": "f8bd5cdb",
   "metadata": {},
   "outputs": [],
   "source": [
    "##Prediction Function\n",
    "\n",
    "def predict_sentiment(review):\n",
    "    preprocessed_input = preprocess_text(review)\n",
    "\n",
    "    prediction = model.predict(preprocessed_input)\n",
    "\n",
    "    sentiment = 'Positive' if prediction[0][0] > 0.5 else 'Negative'\n",
    "\n",
    "    return sentiment,prediction[0][0]"
   ]
  },
  {
   "cell_type": "code",
   "execution_count": 14,
   "id": "a6c3d442",
   "metadata": {},
   "outputs": [
    {
     "name": "stdout",
     "output_type": "stream",
     "text": [
      "\u001b[1m1/1\u001b[0m \u001b[32m━━━━━━━━━━━━━━━━━━━━\u001b[0m\u001b[37m\u001b[0m \u001b[1m0s\u001b[0m 48ms/step\n",
      "Review: This movie was fanstatic! The actig was great and the plot was thrilling.\n",
      "Sentiment: Positive\n",
      "Score: 0.9404032230377197\n"
     ]
    }
   ],
   "source": [
    "#Example review for prediction\n",
    "\n",
    "example_review = \"This movie was fanstatic! The actig was great and the plot was thrilling.\"\n",
    "\n",
    "\n",
    "sentiment,score = predict_sentiment(example_review)\n",
    "\n",
    "print(f'Review: {example_review}')\n",
    "print(f'Sentiment: {sentiment}')\n",
    "print(f'Score: {score}')"
   ]
  }
 ],
 "metadata": {
  "kernelspec": {
   "display_name": "venv",
   "language": "python",
   "name": "python3"
  },
  "language_info": {
   "codemirror_mode": {
    "name": "ipython",
    "version": 3
   },
   "file_extension": ".py",
   "mimetype": "text/x-python",
   "name": "python",
   "nbconvert_exporter": "python",
   "pygments_lexer": "ipython3",
   "version": "3.11.0"
  }
 },
 "nbformat": 4,
 "nbformat_minor": 5
}
